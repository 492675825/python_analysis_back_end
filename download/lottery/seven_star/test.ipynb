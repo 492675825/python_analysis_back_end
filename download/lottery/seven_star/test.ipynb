{
 "cells": [
  {
   "cell_type": "code",
   "execution_count": 14,
   "metadata": {},
   "outputs": [],
   "source": [
    "import pandas as pd\n",
    "pd.set_option(\"display.max_columns\",100)\n",
    "pd.set_option(\"expand_frame_repr\",False)"
   ]
  },
  {
   "cell_type": "code",
   "execution_count": 15,
   "metadata": {},
   "outputs": [],
   "source": [
    "path = 'seven_star.csv'"
   ]
  },
  {
   "cell_type": "code",
   "execution_count": 16,
   "metadata": {},
   "outputs": [],
   "source": [
    "df = pd.read_csv(path)"
   ]
  },
  {
   "cell_type": "code",
   "execution_count": 17,
   "metadata": {},
   "outputs": [
    {
     "data": {
      "text/plain": [
       "7     294\n",
       "0     281\n",
       "6     272\n",
       "5     271\n",
       "3     265\n",
       "1     264\n",
       "9     260\n",
       "8     255\n",
       "4     246\n",
       "2     245\n",
       "14     25\n",
       "11     20\n",
       "13     18\n",
       "12     11\n",
       "10     10\n",
       "Name: final_number, dtype: int64"
      ]
     },
     "execution_count": 17,
     "metadata": {},
     "output_type": "execute_result"
    }
   ],
   "source": [
    "df['final_number'].value_counts()"
   ]
  }
 ],
 "metadata": {
  "interpreter": {
   "hash": "398d141fb021b522bcde90612653542d103f4eeda961b8d5ec512eec24842a12"
  },
  "kernelspec": {
   "display_name": "Python 3.8.7 64-bit",
   "language": "python",
   "name": "python3"
  },
  "language_info": {
   "codemirror_mode": {
    "name": "ipython",
    "version": 3
   },
   "file_extension": ".py",
   "mimetype": "text/x-python",
   "name": "python",
   "nbconvert_exporter": "python",
   "pygments_lexer": "ipython3",
   "version": "3.8.7"
  },
  "orig_nbformat": 4
 },
 "nbformat": 4,
 "nbformat_minor": 2
}
